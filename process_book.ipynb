{
 "cells": [
  {
   "cell_type": "markdown",
   "id": "c8f9c743",
   "metadata": {},
   "source": [
    "## Process Book\n",
    "\n",
    "### 07.05.25\n",
    "\n",
    "Resources:\n",
    "- TheGuardian [URL](https://www.theguardian.com/books/2015/aug/17/the-100-best-novels-written-in-english-the-full-list)\n",
    "- [BeautifulSoup4](https://beautiful-soup-4.readthedocs.io/en/latest/)\n",
    "- [sqlite3](https://www.sqlite.org/)\n",
    "- [cs50 SQL library](https://cs50.readthedocs.io/libraries/cs50/python/)\n",
    "\n",
    "Challenges:\n",
    "- Extracting the title and author names from the DOM\n",
    "- Creating relational databases \"authors\" and \"books\" for further use"
   ]
  }
 ],
 "metadata": {
  "language_info": {
   "name": "python"
  }
 },
 "nbformat": 4,
 "nbformat_minor": 5
}
