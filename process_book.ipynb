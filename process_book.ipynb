{
 "cells": [
  {
   "cell_type": "markdown",
   "id": "c8f9c743",
   "metadata": {},
   "source": [
    "## Process Book\n",
    "\n",
    "### 07.05.25\n",
    "\n",
    "Resources:\n",
    "- TheGuardian [URL](https://www.theguardian.com/books/2015/aug/17/the-100-best-novels-written-in-english-the-full-list)\n",
    "- [BeautifulSoup4](https://beautiful-soup-4.readthedocs.io/en/latest/)\n",
    "- [sqlite3](https://www.sqlite.org/)\n",
    "- [cs50 SQL library](https://cs50.readthedocs.io/libraries/cs50/python/)\n",
    "\n",
    "What I've worked on:\n",
    "- Navigating DOM of The Guardian to extract book titles and authors using REGEX\n",
    "- Data-cleaning (stripping white spaces and capitalizing)\n",
    "- Create two relational tables, one for authors and one for books\n",
    "\n",
    "Challenges:\n",
    "- Using REGEX to selectively extract only the authors name (and f.e. not the year of release)\n",
    "\n",
    "What I've learned:\n",
    "- More REGEX pattern styles\n"
   ]
  },
  {
   "cell_type": "markdown",
   "id": "e3f90f6e",
   "metadata": {},
   "source": [
    "### 08.05.25\n",
    "\n",
    "Resources\n",
    "- Goodreads.com [URL](https://www.goodreads.com/)\n",
    "- [BeautifulSoup4](https://beautiful-soup-4.readthedocs.io/en/latest/)\n",
    "- [sqlite3](https://www.sqlite.org/)\n",
    "- [cs50 SQL library](https://cs50.readthedocs.io/libraries/cs50/python/)\n",
    "\n",
    "What I've worked on:\n",
    "- Using book titles to extract the respective Goodreads descriptions\n",
    "- Adding description column to books table and adding descriptions for each book\n",
    "\n",
    "Challenges:\n",
    "- Scraping was required twice, once to find href to the book page from the search page, and once to find the description text on the book page.\n",
    "- Finding out how to add new column in a table and how to use UPDATE\n",
    "\n",
    "What I've learned:\n",
    "- By finding the href from the search page, I can navigate through multiple urls. \n",
    "- How to add new columns and how to update values for rows. \n",
    "\n",
    "Next Steps:\n",
    "- Process book descriptions into tokens\n",
    "- Remove stopwords\n",
    "- Standardize words conceptually (lemmatization)\n",
    "\n",
    "\n",
    " "
   ]
  },
  {
   "cell_type": "markdown",
   "id": "fb8ed894",
   "metadata": {},
   "source": [
    "### DATE\n",
    "\n",
    "Resources\n",
    "-\n",
    "\n",
    "What I've worked on:\n",
    "-\n",
    "\n",
    "Challenges:\n",
    "-\n",
    "\n",
    "What I've learned:\n",
    "- \n",
    "\n",
    "\n",
    " "
   ]
  }
 ],
 "metadata": {
  "language_info": {
   "name": "python"
  }
 },
 "nbformat": 4,
 "nbformat_minor": 5
}
